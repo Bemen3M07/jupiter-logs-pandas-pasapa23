{
 "cells": [
  {
   "cell_type": "code",
   "execution_count": null,
   "id": "255379c9-2622-465e-b593-61e1be686a6c",
   "metadata": {},
   "outputs": [],
   "source": [
    "pip install pandas"
   ]
  },
  {
   "cell_type": "code",
   "execution_count": null,
   "id": "2b5ff9bd-9c68-4142-94a9-4e63edd861a9",
   "metadata": {},
   "outputs": [],
   "source": [
    "# Importem les llibreries necessàries\n",
    "import pandas as pd\n",
    "\n",
    "# Carreguem el fitxer CSV amb les notes dels alumnes\n",
    "df = pd.read_csv('/mnt/data/estudiantes_notas.csv')\n",
    "\n",
    "# Mostrem les primeres files per veure les dades\n",
    "df.head()\n",
    "\n",
    "# Calcular la mitjana de cada alumne (M01, M04, M03, M05)\n",
    "df['Mitjana Alumne'] = df[['M01', 'M04', 'M03', 'M05']].mean(axis=1)\n",
    "\n",
    "# Calcular la mitjana de tots els alumnes\n",
    "mitjana_total = df[['M01', 'M04', 'M03', 'M05']].mean().mean()\n",
    "\n",
    "# Percentatge d'aprovats (nota > 5) per a cada alumne\n",
    "df['Aprovats'] = df['Mitjana Alumne'] >= 5\n",
    "percentatge_aprovats = df['Aprovats'].mean() * 100\n",
    "\n",
    "# Percentatge de suspesos (nota < 5)\n",
    "percentatge_suspesos = 100 - percentatge_aprovats\n",
    "\n",
    "# Notes més altes i més baixes\n",
    "nota_mes_alta = df[['M01', 'M04', 'M03', 'M05']].max().max()\n",
    "nota_mes_baixa = df[['M01', 'M04', 'M03', 'M05']].min().min()\n",
    "\n",
    "# Alumne amb la mitjana més alta\n",
    "alumne_mitjana_mes_alta = df.loc[df['Mitjana Alumne'].idxmax(), 'Alumne']\n",
    "# Alumne amb la mitjana més baixa\n",
    "alumne_mitjana_mes_baixa = df.loc[df['Mitjana Alumne'].idxmin(), 'Alumne']\n",
    "\n",
    "# Mostrem els resultats\n",
    "print(f\"Mitjana total de tots els alumnes: {mitjana_total:.2f}\")\n",
    "print(f\"Percentatge d'aprovats: {percentatge_aprovats:.2f}%\")\n",
    "print(f\"Percentatge de suspesos: {percentatge_suspesos:.2f}%\")\n",
    "print(f\"Nota més alta: {nota_mes_alta}\")\n",
    "print(f\"Nota més baixa: {nota_mes_baixa}\")\n",
    "print(f\"Alumne amb la mitjana més alta: {alumne_mitjana_mes_alta}\")\n",
    "print(f\"Alumne amb la mitjana més baixa: {alumne_mitjana_mes_baixa}\")\n",
    "\n",
    "# Mostrar el DataFrame actualitzat amb les noves columnes\n",
    "df[['Professor', 'Alumne', 'Mitjana Alumne', 'Aprovats']]"
   ]
  },
  {
   "cell_type": "code",
   "execution_count": null,
   "id": "712c4a5b-b064-4162-b99b-ee8453191fde",
   "metadata": {},
   "outputs": [],
   "source": []
  }
 ],
 "metadata": {
  "kernelspec": {
   "display_name": "Python 3 (ipykernel)",
   "language": "python",
   "name": "python3"
  },
  "language_info": {
   "codemirror_mode": {
    "name": "ipython",
    "version": 3
   },
   "file_extension": ".py",
   "mimetype": "text/x-python",
   "name": "python",
   "nbconvert_exporter": "python",
   "pygments_lexer": "ipython3",
   "version": "3.12.1"
  }
 },
 "nbformat": 4,
 "nbformat_minor": 5
}
