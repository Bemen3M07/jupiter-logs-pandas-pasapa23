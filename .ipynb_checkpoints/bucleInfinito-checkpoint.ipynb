{
 "cells": [
  {
   "cell_type": "code",
   "execution_count": null,
   "id": "f505eac6-2545-46b7-b903-bd8330849bc1",
   "metadata": {},
   "outputs": [],
   "source": [
    "import logging\n",
    "import time\n",
    "from itertools import count\n",
    "\n",
    "# Configuración del logger\n",
    "logging.basicConfig(\n",
    "    level=logging.INFO,\n",
    "    format='%(asctime)s - %(levelname)s - %(message)s',\n",
    "    handlers=[\n",
    "        logging.FileHandler(\"app.log\"),  # Guarda los logs en un archivo\n",
    "        logging.StreamHandler()         # También los muestra en la consola\n",
    "    ]\n",
    ")\n",
    "\n",
    "logger = logging.getLogger(\"BucleInfinitoLogger\")\n",
    "\n",
    "# Función principal con bucle infinito usando for\n",
    "def main():\n",
    "    try:\n",
    "        for count in count(1):  # Iterador infinito comenzando en 1\n",
    "            logger.info(f\"Mensaje número {count}: el programa sigue ejecutándose.\")\n",
    "            time.sleep(2)  # Pausa de 2 segundos\n",
    "    except KeyboardInterrupt:\n",
    "        logger.warning(\"El programa fue interrumpido manualmente.\")\n",
    "    finally:\n",
    "        logger.info(\"Programa terminado.\")\n",
    "\n",
    "# Ejecutar la función principal\n",
    "if __name__ == \"__main__\":\n",
    "    main()"
   ]
  }
 ],
 "metadata": {
  "kernelspec": {
   "display_name": "Python 3 (ipykernel)",
   "language": "python",
   "name": "python3"
  },
  "language_info": {
   "codemirror_mode": {
    "name": "ipython",
    "version": 3
   },
   "file_extension": ".py",
   "mimetype": "text/x-python",
   "name": "python",
   "nbconvert_exporter": "python",
   "pygments_lexer": "ipython3",
   "version": "3.12.1"
  }
 },
 "nbformat": 4,
 "nbformat_minor": 5
}
