{
 "cells": [
  {
   "cell_type": "code",
   "execution_count": null,
   "id": "6b252a7e-77bb-435b-aeba-2d66e68ab614",
   "metadata": {},
   "outputs": [],
   "source": [
    "print (\"hola\")"
   ]
  },
  {
   "cell_type": "code",
   "execution_count": 2,
   "id": "2cc16a39-1365-47d7-b381-35116d9faa7c",
   "metadata": {
    "scrolled": true
   },
   "outputs": [
    {
     "name": "stderr",
     "output_type": "stream",
     "text": [
      "WARNING:root:Cuidaooo\n"
     ]
    }
   ],
   "source": [
    "import logging \n",
    "logging.warning('Cuidaooo')\n",
    "logging.info('Ya la has liado')"
   ]
  },
  {
   "cell_type": "code",
   "execution_count": null,
   "id": "e23d04d6-cb22-43b2-a4cd-7b0b471f6e51",
   "metadata": {},
   "outputs": [],
   "source": [
    "import logg\n",
    "logging.basicConfig(level=logging.DEBUG)"
   ]
  },
  {
   "cell_type": "code",
   "execution_count": null,
   "id": "a0b4ea9b-f864-4c7e-90a4-d03e19142085",
   "metadata": {},
   "outputs": [],
   "source": []
  },
  {
   "cell_type": "code",
   "execution_count": null,
   "id": "b801acc3-0628-42a2-9238-ab24a91e6082",
   "metadata": {},
   "outputs": [],
   "source": []
  }
 ],
 "metadata": {
  "kernelspec": {
   "display_name": "Python 3 (ipykernel)",
   "language": "python",
   "name": "python3"
  },
  "language_info": {
   "codemirror_mode": {
    "name": "ipython",
    "version": 3
   },
   "file_extension": ".py",
   "mimetype": "text/x-python",
   "name": "python",
   "nbconvert_exporter": "python",
   "pygments_lexer": "ipython3",
   "version": "3.12.1"
  }
 },
 "nbformat": 4,
 "nbformat_minor": 5
}
