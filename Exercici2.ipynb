{
 "cells": [
  {
   "cell_type": "code",
   "execution_count": 2,
   "id": "834d668a-8e09-47dd-93d4-9b7691171832",
   "metadata": {},
   "outputs": [],
   "source": [
    "import logging\n",
    "import logging.handlers\n",
    "import time\n",
    "from itertools import count"
   ]
  },
  {
   "cell_type": "code",
   "execution_count": 3,
   "id": "5cb8a87a-e5bd-4c52-be5d-bba20b808ea7",
   "metadata": {},
   "outputs": [],
   "source": [
    "# Logger principal\n",
    "logger = logging.getLogger(\"BucleInfinitoLogger\")\n",
    "logger.setLevel(logging.DEBUG)\n",
    "\n",
    "# Handler para logs de nivel INFO (info.log)\n",
    "info_handler = logging.FileHandler(\"info.log\")\n",
    "info_handler.setLevel(logging.INFO)\n",
    "info_formatter = logging.Formatter('%(asctime)s - %(levelname)s - %(message)s')\n",
    "info_handler.setFormatter(info_formatter)\n",
    "\n",
    "# Handler para logs de nivel ERROR (error.log)\n",
    "error_handler = logging.FileHandler(\"error.log\")\n",
    "error_handler.setLevel(logging.ERROR)\n",
    "error_formatter = logging.Formatter('%(asctime)s - %(levelname)s - %(message)s')\n",
    "error_handler.setFormatter(error_formatter)\n",
    "\n",
    "# Handler para mostrar logs en la pantalla (nivel INFO)\n",
    "console_handler = logging.StreamHandler()\n",
    "console_handler.setLevel(logging.INFO)\n",
    "console_handler.setFormatter(info_formatter)\n",
    "\n",
    "# Agregar handlers al logger principal\n",
    "logger.addHandler(info_handler)\n",
    "logger.addHandler(error_handler)\n",
    "logger.addHandler(console_handler)"
   ]
  },
  {
   "cell_type": "code",
   "execution_count": 4,
   "id": "e17d6149-a31f-4b7c-aa33-006ebda0cb83",
   "metadata": {},
   "outputs": [],
   "source": [
    "# Logger especial para guardar logs en formato CSV\n",
    "csv_logger = logging.getLogger(\"CSVLogger\")\n",
    "csv_logger.setLevel(logging.INFO)\n",
    "\n",
    "# Handler para logs CSV (info.csv)\n",
    "csv_handler = logging.FileHandler(\"info.csv\")\n",
    "csv_handler.setLevel(logging.INFO)\n",
    "csv_formatter = logging.Formatter('%(asctime)s,%(levelname)s,%(message)s')\n",
    "csv_handler.setFormatter(csv_formatter)\n",
    "\n",
    "# Agregar el handler al logger CSV\n",
    "csv_logger.addHandler(csv_handler)"
   ]
  },
  {
   "cell_type": "code",
   "execution_count": 5,
   "id": "44a0e4f0-f7f3-4d22-b6a4-14e0a8f729b1",
   "metadata": {},
   "outputs": [],
   "source": [
    "def main():\n",
    "    try:\n",
    "        for count in count(1):  # Iterador infinito comenzando en 1\n",
    "            logger.info(f\"Mensaje número {count}: el programa sigue ejecutándose.\")\n",
    "            if count % 5 == 0:  # Cada 5 iteraciones, generar un error\n",
    "                logger.error(f\"Error simulado en el mensaje {count}.\")\n",
    "            if count % 10 == 0:  # Cada 10 iteraciones, usar el logger CSV\n",
    "                csv_logger.info(f\"Mensaje especial {count} en formato CSV.\")\n",
    "            time.sleep(1)  # Pausa de 1 segundo\n",
    "    except KeyboardInterrupt:\n",
    "        logger.warning(\"El programa fue interrumpido manualmente.\")\n",
    "    finally:\n",
    "        logger.info(\"Programa terminado.\")"
   ]
  },
  {
   "cell_type": "code",
   "execution_count": 6,
   "id": "2b28b0d5-d4b6-4c13-8fba-97ef6ef54ee1",
   "metadata": {},
   "outputs": [
    {
     "name": "stderr",
     "output_type": "stream",
     "text": [
      "2024-11-29 17:32:13,081 - INFO - Programa terminado.\n",
      "2024-11-29 17:32:13,081 - INFO - Programa terminado.\n"
     ]
    },
    {
     "ename": "UnboundLocalError",
     "evalue": "cannot access local variable 'count' where it is not associated with a value",
     "output_type": "error",
     "traceback": [
      "\u001b[0;31m---------------------------------------------------------------------------\u001b[0m",
      "\u001b[0;31mUnboundLocalError\u001b[0m                         Traceback (most recent call last)",
      "Cell \u001b[0;32mIn[6], line 3\u001b[0m\n\u001b[1;32m      1\u001b[0m \u001b[38;5;66;03m# Ejecutar el programa\u001b[39;00m\n\u001b[1;32m      2\u001b[0m \u001b[38;5;28;01mif\u001b[39;00m \u001b[38;5;18m__name__\u001b[39m \u001b[38;5;241m==\u001b[39m \u001b[38;5;124m\"\u001b[39m\u001b[38;5;124m__main__\u001b[39m\u001b[38;5;124m\"\u001b[39m:\n\u001b[0;32m----> 3\u001b[0m     \u001b[43mmain\u001b[49m\u001b[43m(\u001b[49m\u001b[43m)\u001b[49m\n",
      "Cell \u001b[0;32mIn[5], line 3\u001b[0m, in \u001b[0;36mmain\u001b[0;34m()\u001b[0m\n\u001b[1;32m      1\u001b[0m \u001b[38;5;28;01mdef\u001b[39;00m \u001b[38;5;21mmain\u001b[39m():\n\u001b[1;32m      2\u001b[0m     \u001b[38;5;28;01mtry\u001b[39;00m:\n\u001b[0;32m----> 3\u001b[0m         \u001b[38;5;28;01mfor\u001b[39;00m count \u001b[38;5;129;01min\u001b[39;00m \u001b[43mcount\u001b[49m(\u001b[38;5;241m1\u001b[39m):  \u001b[38;5;66;03m# Iterador infinito comenzando en 1\u001b[39;00m\n\u001b[1;32m      4\u001b[0m             logger\u001b[38;5;241m.\u001b[39minfo(\u001b[38;5;124mf\u001b[39m\u001b[38;5;124m\"\u001b[39m\u001b[38;5;124mMensaje número \u001b[39m\u001b[38;5;132;01m{\u001b[39;00mcount\u001b[38;5;132;01m}\u001b[39;00m\u001b[38;5;124m: el programa sigue ejecutándose.\u001b[39m\u001b[38;5;124m\"\u001b[39m)\n\u001b[1;32m      5\u001b[0m             \u001b[38;5;28;01mif\u001b[39;00m count \u001b[38;5;241m%\u001b[39m \u001b[38;5;241m5\u001b[39m \u001b[38;5;241m==\u001b[39m \u001b[38;5;241m0\u001b[39m:  \u001b[38;5;66;03m# Cada 5 iteraciones, generar un error\u001b[39;00m\n",
      "\u001b[0;31mUnboundLocalError\u001b[0m: cannot access local variable 'count' where it is not associated with a value"
     ]
    }
   ],
   "source": [
    "# Ejecutar el programa\n",
    "if __name__ == \"__main__\":\n",
    "    main()"
   ]
  },
  {
   "cell_type": "code",
   "execution_count": null,
   "id": "184846cf-6fd8-432e-b4cc-99263a7419a0",
   "metadata": {},
   "outputs": [],
   "source": []
  }
 ],
 "metadata": {
  "kernelspec": {
   "display_name": "Python 3 (ipykernel)",
   "language": "python",
   "name": "python3"
  },
  "language_info": {
   "codemirror_mode": {
    "name": "ipython",
    "version": 3
   },
   "file_extension": ".py",
   "mimetype": "text/x-python",
   "name": "python",
   "nbconvert_exporter": "python",
   "pygments_lexer": "ipython3",
   "version": "3.12.1"
  }
 },
 "nbformat": 4,
 "nbformat_minor": 5
}
